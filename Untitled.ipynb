{
 "cells": [
  {
   "cell_type": "code",
   "execution_count": 1,
   "id": "6f1ca63d",
   "metadata": {},
   "outputs": [],
   "source": [
    "import os\n",
    "import yaml\n",
    "import argparse\n",
    "import numpy as np\n",
    "from pathlib import Path\n",
    "from models import *\n",
    "from experiment import VAEXperiment\n",
    "import torch.backends.cudnn as cudnn\n",
    "from pytorch_lightning import Trainer\n",
    "from pytorch_lightning.loggers import TensorBoardLogger\n",
    "from pytorch_lightning.utilities.seed import seed_everything\n",
    "from pytorch_lightning.callbacks import LearningRateMonitor, ModelCheckpoint\n",
    "from dataset import VAEDataset\n",
    "from pytorch_lightning.plugins import DDPPlugin"
   ]
  },
  {
   "cell_type": "code",
   "execution_count": 16,
   "id": "e1206338",
   "metadata": {},
   "outputs": [],
   "source": [
    "filename = \"configs/vae.yaml\"\n",
    "with open(filename, 'r') as file:\n",
    "    try:\n",
    "        config = yaml.safe_load(file)\n",
    "    except yaml.YAMLError as exc:\n",
    "        print(exc)\n",
    "checkpoint_path = \"./logs/VanillaVAE/version_10/checkpoints/last.ckpt\"\n",
    "model = vae_models[config['model_params']['name']](**config['model_params'])\n",
    "own_state = model.state_dict()\n",
    "# print(own_state)\n",
    "checkpoint = torch.load(checkpoint_path)\n",
    "for name, param in checkpoint[\"state_dict\"].items():\n",
    "    name_model = name[6:]\n",
    "    if name_model not in own_state:\n",
    "         continue\n",
    "    if isinstance(param, torch.nn.Parameter):\n",
    "        # backwards compatibility for serialized parameters\n",
    "        param = param.data\n",
    "    own_state[name_model].copy_(param)"
   ]
  },
  {
   "cell_type": "code",
   "execution_count": 21,
   "id": "533b2859",
   "metadata": {},
   "outputs": [],
   "source": [
    "device = torch.device(\"cuda:0\" if torch.cuda.is_available() else \"cpu\")\n",
    "model.to(device)\n",
    "\n",
    "model.eval()\n",
    "data = VAEDataset(**config[\"data_params\"], pin_memory=len(config['trainer_params']['gpus']) != 0)\n",
    "data.setup()\n",
    "\n",
    "path = \"./generatedImages\""
   ]
  },
  {
   "cell_type": "code",
   "execution_count": 39,
   "id": "ac8c26ca",
   "metadata": {},
   "outputs": [
    {
     "data": {
      "text/plain": [
       "<Figure size 432x288 with 0 Axes>"
      ]
     },
     "metadata": {},
     "output_type": "display_data"
    }
   ],
   "source": [
    "num_images = 1000\n",
    "images = model.sample(num_images,device)\n",
    "images = images.cpu().detach().numpy()\n",
    "for i in range(num_images):\n",
    "    img = images[i].transpose(1,2,0)\n",
    "    img = (img-np.min(img))/(np.max(img)-np.min(img))\n",
    "    plt.savefig(path+\"/%d.png\"%i)\n"
   ]
  },
  {
   "cell_type": "code",
   "execution_count": 36,
   "id": "83362eae",
   "metadata": {},
   "outputs": [
    {
     "name": "stderr",
     "output_type": "stream",
     "text": [
      "Clipping input data to the valid range for imshow with RGB data ([0..1] for floats or [0..255] for integers).\n"
     ]
    },
    {
     "name": "stdout",
     "output_type": "stream",
     "text": [
      "(64, 64, 3)\n"
     ]
    },
    {
     "data": {
      "text/plain": [
       "<matplotlib.image.AxesImage at 0x7fa7cb120ac0>"
      ]
     },
     "execution_count": 36,
     "metadata": {},
     "output_type": "execute_result"
    },
    {
     "data": {
      "image/png": "[encoded data removed]",
      "text/plain": [
       "<Figure size 432x288 with 1 Axes>"
      ]
     },
     "metadata": {
      "needs_background": "light"
     },
     "output_type": "display_data"
    }
   ],
   "source": [
    "import matplotlib.pyplot as plt\n",
    "for i in range(num_images)\n",
    "img = images[2]\n",
    "img = img.transpose(1,2,0)\n",
    "# img = (img-np.min(img))/(np.max(img)-np.min(img))\n",
    "print(np.shape(img))\n",
    "plt.imshow(img)"
   ]
  }
 ],
 "metadata": {
  "kernelspec": {
   "display_name": "Python 3 (ipykernel)",
   "language": "python",
   "name": "python3"
  },
  "language_info": {
   "codemirror_mode": {
    "name": "ipython",
    "version": 3
   },
   "file_extension": ".py",
   "mimetype": "text/x-python",
   "name": "python",
   "nbconvert_exporter": "python",
   "pygments_lexer": "ipython3",
   "version": "3.9.5"
  }
 },
 "nbformat": 4,
 "nbformat_minor": 5
}
